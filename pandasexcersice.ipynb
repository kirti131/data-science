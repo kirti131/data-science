{
  "nbformat": 4,
  "nbformat_minor": 0,
  "metadata": {
    "colab": {
      "provenance": [],
      "authorship_tag": "ABX9TyNIzfZD8TvWK5K27h+05tLR",
      "include_colab_link": true
    },
    "kernelspec": {
      "name": "python3",
      "display_name": "Python 3"
    },
    "language_info": {
      "name": "python"
    }
  },
  "cells": [
    {
      "cell_type": "markdown",
      "metadata": {
        "id": "view-in-github",
        "colab_type": "text"
      },
      "source": [
        "<a href=\"https://colab.research.google.com/github/kirti131/data-science/blob/main/pandasexcersice.ipynb\" target=\"_parent\"><img src=\"https://colab.research.google.com/assets/colab-badge.svg\" alt=\"Open In Colab\"/></a>"
      ]
    },
    {
      "cell_type": "markdown",
      "source": [
        ".Write a Pandas program to create a dataframe from a dictionary and display\n",
        "it.\n",
        "Sample data: {x:[78,85,96,80,86], y:[84,94,89,83,86],z:[86,97,96,72,83]}"
      ],
      "metadata": {
        "id": "zHTRWUn-OBgH"
      }
    },
    {
      "cell_type": "code",
      "execution_count": null,
      "metadata": {
        "colab": {
          "base_uri": "https://localhost:8080/"
        },
        "id": "mK-cMIX8LRoo",
        "outputId": "e7e467a9-5c27-4725-9367-72dbf935a5d0"
      },
      "outputs": [
        {
          "output_type": "stream",
          "name": "stdout",
          "text": [
            "    x   y   z\n",
            "0  78  84  86\n",
            "1  85  94  97\n",
            "2  96  89  96\n",
            "3  80  83  72\n",
            "4  86  86  83\n"
          ]
        }
      ],
      "source": [
        "import pandas as pd\n",
        "data={'x':[78,85,96,80,86],\n",
        "      'y':[84,94,89,83,86],\n",
        "      'z':[86,97,96,72,83]}\n",
        "df=pd.DataFrame(data)\n",
        "print(df)"
      ]
    },
    {
      "cell_type": "markdown",
      "source": [
        "Write a Pandas program to create and display a DataFrame from a specified\n",
        "dictionary data which has the index labels.\n",
        "Sample Python dictionary data and list labels:\n",
        "exam_data = {&#39;name&#39;: [&#39;Anastasia&#39;, &#39;Dima&#39;, &#39;Katherine&#39;, &#39;James&#39;, &#39;Emily&#39;,\n",
        "&#39;Michael&#39;, &#39;Matthew&#39;, &#39;Laura&#39;, &#39;Kevin&#39;, &#39;Jonas&#39;],\n",
        "&#39;score&#39;: [12.5, 9, 16.5, np.nan, 9, 20, 14.5, np.nan, 8, 19],\n",
        "&#39;attempts&#39;: [1, 3, 2, 3, 2, 3, 1, 1, 2, 1],\n",
        "&#39;qualify&#39;: [&#39;yes&#39;, &#39;no&#39;, &#39;yes&#39;, &#39;no&#39;, &#39;no&#39;, &#39;yes&#39;, &#39;yes&#39;, &#39;no&#39;, &#39;no&#39;, &#39;yes&#39;]}\n",
        "labels = [&#39;a&#39;, &#39;b&#39;, &#39;c&#39;, &#39;d&#39;, &#39;e&#39;, &#39;f&#39;, &#39;g&#39;, &#39;h&#39;, &#39;i&#39;, &#39;j&#39;]\n",
        "Expected Output:\n",
        "attempts name qualify score\n",
        "a 1 Anastasia yes 12.5\n",
        "b 3 Dima no 9.0\n",
        "....\n",
        "i 2 Kevin no 8.0\n",
        "j 1 Jonas yes 19.0"
      ],
      "metadata": {
        "id": "AJmcpbZzOeeR"
      }
    },
    {
      "cell_type": "code",
      "source": [
        "import numpy as np\n",
        "import pandas as pd\n",
        "data={'name':['Anastasia','Dina','Katherine','james','Emily','Michel','Mathhev','Laura','kevin','jonas'],\n",
        "      'score':[12.5,9,16.5,np.nan,9,20,14.5,np.nan,8,19],\n",
        "      'attemts':[1,3,2,3,2,3,1,1,2,1],\n",
        "      'qualify':['yes','no','yes','no','no','yes','yes','no','no','yes']}\n",
        "labels=['a','b','c','d','e','f','g','h','i','j']\n",
        "df=pd.DataFrame(data,index=labels)\n",
        "print(df)"
      ],
      "metadata": {
        "colab": {
          "base_uri": "https://localhost:8080/"
        },
        "id": "6v-JL8EEOW_C",
        "outputId": "bda03ad3-07dd-4bc1-cb8f-8d6d039acb36"
      },
      "execution_count": null,
      "outputs": [
        {
          "output_type": "stream",
          "name": "stdout",
          "text": [
            "        name  score  attemts qualify\n",
            "a  Anastasia   12.5        1     yes\n",
            "b       Dina    9.0        3      no\n",
            "c  Katherine   16.5        2     yes\n",
            "d      james    NaN        3      no\n",
            "e      Emily    9.0        2      no\n",
            "f     Michel   20.0        3     yes\n",
            "g    Mathhev   14.5        1     yes\n",
            "h      Laura    NaN        1      no\n",
            "i      kevin    8.0        2      no\n",
            "j      jonas   19.0        1     yes\n"
          ]
        }
      ]
    },
    {
      "cell_type": "markdown",
      "source": [
        "Write a Pandas program to get the first 3 rows of a given DataFrame.\n",
        "Sample Python dictionary data and list labels:\n",
        "exam_data = {&#39;name&#39;: [&#39;Anastasia&#39;, &#39;Dima&#39;, &#39;Katherine&#39;, &#39;James&#39;, &#39;Emily&#39;,\n",
        "&#39;Michael&#39;, &#39;Matthew&#39;, &#39;Laura&#39;, &#39;Kevin&#39;, &#39;Jonas&#39;],\n",
        "&#39;score&#39;: [12.5, 9, 16.5, np.nan, 9, 20, 14.5, np.nan, 8, 19],\n",
        "&#39;attempts&#39;: [1, 3, 2, 3, 2, 3, 1, 1, 2, 1],\n",
        "&#39;qualify&#39;: [&#39;yes&#39;, &#39;no&#39;, &#39;yes&#39;, &#39;no&#39;, &#39;no&#39;, &#39;yes&#39;, &#39;yes&#39;, &#39;no&#39;, &#39;no&#39;, &#39;yes&#39;]}\n",
        "labels = [&#39;a&#39;, &#39;b&#39;, &#39;c&#39;, &#39;d&#39;, &#39;e&#39;, &#39;f&#39;, &#39;g&#39;, &#39;h&#39;, &#39;i&#39;, &#39;j&#39;]"
      ],
      "metadata": {
        "id": "RpiFFDFJcRyM"
      }
    },
    {
      "cell_type": "code",
      "source": [
        "import numpy as np\n",
        "import pandas as pd\n",
        "data={'name':['Anastasia','Dima','katherine','James','Emily','Michael','Matthew','Laura','Kevin','Jonas'],\n",
        "      'score':[12.5,9,16.5,np.nan,9,20,14.5,np.nan,8,19],\n",
        "      'attempts':[1,3,2,3,2,3,1,1,2,1],\n",
        "      'qualify':['yes','no','yes','no','no','yes','yes','no','no','yes']}\n",
        "\n",
        "labels=['a','b','c','d','e','f','g','h','i','j']\n",
        "df=pd.DataFrame(data,index=labels)\n",
        "first_3_rows=df.head(3)\n",
        "print(first_3_rows)\n"
      ],
      "metadata": {
        "colab": {
          "base_uri": "https://localhost:8080/"
        },
        "id": "t8oMMbjocXlI",
        "outputId": "6e4ac0c4-8b42-49f7-c767-8752316e735e"
      },
      "execution_count": null,
      "outputs": [
        {
          "output_type": "stream",
          "name": "stdout",
          "text": [
            "        name  score  attempts qualify\n",
            "a  Anastasia   12.5         1     yes\n",
            "b       Dima    9.0         3      no\n",
            "c  katherine   16.5         2     yes\n"
          ]
        }
      ]
    },
    {
      "cell_type": "markdown",
      "source": [
        "Write a Pandas program to select the &#39;name&#39; and &#39;score&#39; columns from the\n",
        "following DataFrame.\n",
        "Sample Python dictionary data and list labels:\n",
        "exam_data = {&#39;name&#39;: [&#39;Anastasia&#39;, &#39;Dima&#39;, &#39;Katherine&#39;, &#39;James&#39;, &#39;Emily&#39;,\n",
        "&#39;Michael&#39;, &#39;Matthew&#39;, &#39;Laura&#39;, &#39;Kevin&#39;, &#39;Jonas&#39;],\n",
        "&#39;score&#39;: [12.5, 9, 16.5, np.nan, 9, 20, 14.5, np.nan, 8, 19],\n",
        "&#39;attempts&#39;: [1, 3, 2, 3, 2, 3, 1, 1, 2, 1],\n",
        "\n",
        "Pandas Exercises\n",
        "&#39;qualify&#39;: [&#39;yes&#39;, &#39;no&#39;, &#39;yes&#39;, &#39;no&#39;, &#39;no&#39;, &#39;yes&#39;, &#39;yes&#39;, &#39;no&#39;, &#39;no&#39;, &#39;yes&#39;]}\n",
        "labels = [&#39;a&#39;, &#39;b&#39;, &#39;c&#39;, &#39;d&#39;, &#39;e&#39;, &#39;f&#39;, &#39;g&#39;, &#39;h&#39;, &#39;i&#39;, &#39;j&#39;]\n",
        "Expected Output:\n",
        "Select specific columns:\n",
        "name score\n",
        "a Anastasia 12.5\n",
        "b Dima 9.0\n",
        "c Katherine 16.5\n",
        "...\n",
        "h Laura NaN\n",
        "i Kevin 8.0\n",
        "j Jonas 19.0"
      ],
      "metadata": {
        "id": "jR-zUtLMqVsA"
      }
    },
    {
      "cell_type": "code",
      "source": [
        "import numpy as np\n",
        "import pandas as pd\n",
        "data={'name':['Anastasia','Dima','katherine','James','Emily','Michael','Matthew','Laura','Kevin','Jonas'],\n",
        "      'score':[12.5,9,16.5,np.nan,9,20,14.5,np.nan,8,19],\n",
        "      'attempts':[1,3,2,3,2,3,1,1,2,1],\n",
        "      'qualify':['yes','no','yes','no','no','yes','yes','no','no','yes']\n",
        "      }\n",
        "labels=['a','b','c','d','e','f','g','h','i','j']\n",
        "df=pd.DataFrame(data,index=labels)\n",
        "selected_colomns=df[['name','score']]\n",
        "print(\"specific colomn\")\n",
        "print(selected_colomns)"
      ],
      "metadata": {
        "colab": {
          "base_uri": "https://localhost:8080/"
        },
        "id": "Jz1hbDqQqYTe",
        "outputId": "6169d931-840f-4a5c-b595-63f9e297ae5c"
      },
      "execution_count": null,
      "outputs": [
        {
          "output_type": "stream",
          "name": "stdout",
          "text": [
            "specific colomn\n",
            "        name  score\n",
            "a  Anastasia   12.5\n",
            "b       Dima    9.0\n",
            "c  katherine   16.5\n",
            "d      James    NaN\n",
            "e      Emily    9.0\n",
            "f    Michael   20.0\n",
            "g    Matthew   14.5\n",
            "h      Laura    NaN\n",
            "i      Kevin    8.0\n",
            "j      Jonas   19.0\n"
          ]
        }
      ]
    },
    {
      "cell_type": "markdown",
      "source": [],
      "metadata": {
        "id": "vgtDtqd1u7Vt"
      }
    },
    {
      "cell_type": "markdown",
      "source": [
        "Write a Pandas program to select the rows where the number of attempts in\n",
        "the examination is greater than 2.\n",
        "Sample Python dictionary data and list labels:\n",
        "exam_data = {&#39;name&#39;: [&#39;Anastasia&#39;, &#39;Dima&#39;, &#39;Katherine&#39;, &#39;James&#39;, &#39;Emily&#39;,\n",
        "&#39;Michael&#39;, &#39;Matthew&#39;, &#39;Laura&#39;, &#39;Kevin&#39;, &#39;Jonas&#39;],\n",
        "&#39;score&#39;: [12.5, 9, 16.5, np.nan, 9, 20, 14.5, np.nan, 8, 19],\n",
        "&#39;attempts&#39;: [1, 3, 2, 3, 2, 3, 1, 1, 2, 1],\n",
        "&#39;qualify&#39;: [&#39;yes&#39;, &#39;no&#39;, &#39;yes&#39;, &#39;no&#39;, &#39;no&#39;, &#39;yes&#39;, &#39;yes&#39;, &#39;no&#39;, &#39;no&#39;, &#39;yes&#39;]}\n",
        "labels = [&#39;a&#39;, &#39;b&#39;, &#39;c&#39;, &#39;d&#39;, &#39;e&#39;, &#39;f&#39;, &#39;g&#39;, &#39;h&#39;, &#39;i&#39;, &#39;j&#39;]\n"
      ],
      "metadata": {
        "id": "zndzxXUo_nfi"
      }
    },
    {
      "cell_type": "code",
      "source": [
        "import pandas as pd\n",
        "import numpy as np\n",
        "data={'name':['Anastasia','Dima','Katherine','James','emily','michael','Matthew','Laura','Kevin','Jonas'],\n",
        "      'score':[12.5,9,16.5,np.nan,9,20,14.5,np.nan,8,19],\n",
        "      'attempts':[1,3,2,3,2,3,1,1,2,1],\n",
        "      'qualify':['yes','no','yes','no','no','yes','yes','no','no','yes'],\n",
        "      }\n",
        "labels=['a','b','c','d','e','f','g','h','i','j']\n",
        "df=pd.DataFrame(data,index=labels)\n",
        "result=df[df['attempts']>2]\n",
        "print(result)\n"
      ],
      "metadata": {
        "colab": {
          "base_uri": "https://localhost:8080/"
        },
        "id": "VB30E4X0_rI9",
        "outputId": "3bd9b3f8-1efb-4c39-882d-32eea2f67752"
      },
      "execution_count": null,
      "outputs": [
        {
          "output_type": "stream",
          "name": "stdout",
          "text": [
            "      name  score  attempts qualify\n",
            "b     Dima    9.0         3      no\n",
            "d    James    NaN         3      no\n",
            "f  michael   20.0         3     yes\n"
          ]
        }
      ]
    },
    {
      "cell_type": "markdown",
      "source": [
        "6. Write a Pandas program to select the rows where the score is missing, i.e.\n",
        "is NaN.\n",
        "Sample Python dictionary data and list labels:\n",
        "exam_data = {&#39;name&#39;: [&#39;Anastasia&#39;, &#39;Dima&#39;, &#39;Katherine&#39;, &#39;James&#39;, &#39;Emily&#39;,\n",
        "&#39;Michael&#39;, &#39;Matthew&#39;, &#39;Laura&#39;, &#39;Kevin&#39;, &#39;Jonas&#39;],\n",
        "&#39;score&#39;: [12.5, 9, 16.5, np.nan, 9, 20, 14.5, np.nan, 8, 19],\n",
        "&#39;attempts&#39;: [1, 3, 2, 3, 2, 3, 1, 1, 2, 1],\n",
        "&#39;qualify&#39;: [&#39;yes&#39;, &#39;no&#39;, &#39;yes&#39;, &#39;no&#39;, &#39;no&#39;, &#39;yes&#39;, &#39;yes&#39;, &#39;no&#39;, &#39;no&#39;, &#39;yes&#39;]}\n",
        "labels = [&#39;a&#39;, &#39;b&#39;, &#39;c&#39;, &#39;d&#39;, &#39;e&#39;, &#39;f&#39;, &#39;g&#39;, labels = [&#39;a&#39;, &#39;b&#39;, &#39;c&#39;, &#39;d&#39;, &#39;e&#39;, &#39;f&#39;, &#39;g&#39;, &#39;h&#39;, &#39;i&#39;, &#39;j&#39;]\n",
        "Expected Output:\n",
        "Rows where score is missing:\n",
        "attempts name qualify score\n",
        "d 3 James no NaN\n",
        "h 1 Laura no NaN"
      ],
      "metadata": {
        "id": "ErQde4r_GliX"
      }
    },
    {
      "cell_type": "code",
      "source": [
        "import numpy as np\n",
        "import pandas as pd\n",
        "exam_data = {'name': ['Anastasia', 'Dima', 'Katherine', 'James', 'Emily', 'Michael', 'Matthew', 'Laura', 'Kevin', 'Jonas'],\n",
        "             'score': [12.5, 9, 16.5, np.nan, 9, 20, 14.5, np.nan, 8, 19],\n",
        "             'attempts': [1, 3, 2, 3, 2, 3, 1, 1, 2, 1],\n",
        "             'qualify': ['yes', 'no', 'yes', 'no', 'no', 'yes', 'yes', 'no', 'no', 'yes']}\n",
        "labels = ['a', 'b', 'c', 'd', 'e', 'f','h', 'g', 'i','j']\n",
        "\n",
        "df=pd.DataFrame(exam_data,index=labels)\n",
        "missing_score=df[df['score'].isna()]\n",
        "print(missing_score)"
      ],
      "metadata": {
        "colab": {
          "base_uri": "https://localhost:8080/"
        },
        "id": "rVZ1bp7kKfmp",
        "outputId": "269af213-4767-4573-d91e-ff9ad1c14b58"
      },
      "execution_count": null,
      "outputs": [
        {
          "output_type": "stream",
          "name": "stdout",
          "text": [
            "    name  score  attempts qualify\n",
            "d  James    NaN         3      no\n",
            "g  Laura    NaN         1      no\n"
          ]
        }
      ]
    }
  ]
}